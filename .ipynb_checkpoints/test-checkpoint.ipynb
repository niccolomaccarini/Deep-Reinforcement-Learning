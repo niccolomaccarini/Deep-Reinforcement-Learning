{
 "cells": [
  {
   "cell_type": "code",
   "execution_count": 1,
   "id": "5bb2ec35",
   "metadata": {
    "scrolled": false
   },
   "outputs": [
    {
     "name": "stdout",
     "output_type": "stream",
     "text": [
      "pygame 2.1.2 (SDL 2.0.18, Python 3.8.8)\n",
      "Hello from the pygame community. https://www.pygame.org/contribute.html\n"
     ]
    }
   ],
   "source": [
    "import numpy as np\n",
    "import time\n",
    "from Helper import LearningCurvePlot, smooth\n",
    "from Assignment2_batch_updates import cartpole\n",
    "\n",
    "def average_over_repetitions(policy, epsilon, smoothing_window, plot, decay_epsilon, n_repetitions, n_runs, learning_rate,\n",
    "                             gamma, batch_size, experience_replay):\n",
    "\n",
    "    reward_results = np.empty([n_repetitions,n_runs]) # Result array\n",
    "    now = time.time()\n",
    "    \n",
    "    for rep in range(n_repetitions): # Loop over repetitions\n",
    "        rewards = cartpole(n_runs, learning_rate, gamma, policy, epsilon, experience_replay, batch_size, decay_epsilon)\n",
    "        reward_results[rep] = rewards\n",
    "        \n",
    "    print('Running one setting takes {} minutes'.format((time.time()-now)/60))    \n",
    "    learning_curve = np.mean(reward_results,axis=0) # average over repetitions\n",
    "    #learning_curve = smooth(learning_curve,smoothing_window) # additional smoothing\n",
    "    return learning_curve  \n",
    "\n",
    "def experiment():\n",
    "    ####### Settings\n",
    "    # Experiment    \n",
    "    n_repetitions = 8\n",
    "    smoothing_window = 1001\n",
    "    n_runs = 100\n",
    "    experience_replay = True\n",
    "    gamma = 0.995\n",
    "\n",
    "    # Exploration\n",
    "    policy = 'egreedy' # 'egreedy' or other choices\n",
    "    epsilon_min = 0.01\n",
    "    decay_rate = 0.95\n",
    "    batch_size = 64\n",
    "    decay_epsilon = False\n",
    "    \n",
    "    # Learning rate\n",
    "    learning_rate = 0.01\n",
    "    \n",
    "    # Plotting parameters\n",
    "    plot = True\n",
    "    \n",
    "    ####### Experiments\n",
    "    \n",
    "    good_average_reward = 300 # We set this as a benchmark of good average reward reached by the algorithm\n",
    "    \n",
    "    Plot = LearningCurvePlot(title = 'Cartpole experiment with $\\epsilon$-greedy exploration')    \n",
    "    policy = 'egreedy'\n",
    "    epsilons = [0.01, 1 ,0.2]\n",
    "    for epsilon in epsilons:\n",
    "        if epsilon == True:\n",
    "            decay_epsilon = True\n",
    "        learning_curve = average_over_repetitions(policy, epsilon, smoothing_window, plot, decay_epsilon, \n",
    "                                                  n_repetitions, n_runs, learning_rate, gamma, batch_size, experience_replay)\n",
    "        Plot.add_curve(learning_curve,label=r'Exploration strategy, epsilon = {}'.format(epsilon))\n",
    "        decay_epsilon = False\n",
    "    Plot.add_hline(good_average_reward, label = '')\n",
    "    Plot.save('cartpole_epsilon_test.png')\n",
    "\n",
    "def experiment_replay():\n",
    "    ####### Settings\n",
    "    # Experiment    \n",
    "    n_repetitions = 8\n",
    "    smoothing_window = 1001\n",
    "    n_runs = 100\n",
    "    gamma = 0.995\n",
    "\n",
    "    # Exploration\n",
    "    policy = 'egreedy' # 'egreedy' or other choices\n",
    "    epsilon = 0.2\n",
    "    decay_rate = 0.95\n",
    "    batch_size = 64\n",
    "    decay_epsilon = False\n",
    "    \n",
    "    # Learning rate\n",
    "    learning_rate = 0.01\n",
    "    \n",
    "    # Plotting parameters\n",
    "    plot = True\n",
    "    \n",
    "    ####### Experiments\n",
    "    \n",
    "    good_average_reward = 300 # We set this as a benchmark of good average reward reached by the algorithm\n",
    "    \n",
    "    Plot = LearningCurvePlot(title = 'Cartpole experiment with $\\epsilon$-greedy exploration')    \n",
    "    policy = 'egreedy'\n",
    "    replays = [False, True]\n",
    "    for replay in replays:\n",
    "        experience_replay = replay\n",
    "        learning_curve = average_over_repetitions(policy, epsilon, smoothing_window, plot, decay_epsilon, \n",
    "                                                  n_repetitions, n_runs, learning_rate, gamma, batch_size, experience_replay)\n",
    "        Plot.add_curve(learning_curve,label=r'Exploration strategy, epsilon = {}'.format(epsilon))\n",
    "    Plot.add_hline(good_average_reward, label = '')\n",
    "    Plot.save('cartpole_replay_test.png')\n"
   ]
  },
  {
   "cell_type": "code",
   "execution_count": null,
   "id": "a951ff68",
   "metadata": {},
   "outputs": [],
   "source": [
    "experiment()"
   ]
  },
  {
   "cell_type": "code",
   "execution_count": null,
   "id": "e4989c9e",
   "metadata": {},
   "outputs": [],
   "source": [
    "experiment_replay()"
   ]
  }
 ],
 "metadata": {
  "kernelspec": {
   "display_name": "Python 3",
   "language": "python",
   "name": "python3"
  },
  "language_info": {
   "codemirror_mode": {
    "name": "ipython",
    "version": 3
   },
   "file_extension": ".py",
   "mimetype": "text/x-python",
   "name": "python",
   "nbconvert_exporter": "python",
   "pygments_lexer": "ipython3",
   "version": "3.8.8"
  }
 },
 "nbformat": 4,
 "nbformat_minor": 5
}
