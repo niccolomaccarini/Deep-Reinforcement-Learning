{
 "cells": [
  {
   "cell_type": "code",
   "execution_count": null,
   "id": "5bb2ec35",
   "metadata": {
    "scrolled": false
   },
   "outputs": [
    {
     "name": "stdout",
     "output_type": "stream",
     "text": [
      "pygame 2.1.2 (SDL 2.0.18, Python 3.8.8)\n",
      "Hello from the pygame community. https://www.pygame.org/contribute.html\n",
      "Run:1, Steps:25, Epsilon:0.01\n",
      "Run:2, Steps:9, Epsilon:0.01\n",
      "Run:3, Steps:21, Epsilon:0.01\n",
      "Run:4, Steps:19, Epsilon:0.01\n",
      "Run:5, Steps:9, Epsilon:0.01\n",
      "Run:6, Steps:10, Epsilon:0.01\n",
      "Run:7, Steps:9, Epsilon:0.01\n"
     ]
    }
   ],
   "source": [
    "import numpy as np\n",
    "import time\n",
    "from Helper import LearningCurvePlot, smooth\n",
    "from Assignment2_batch_updates import *\n",
    "\n",
    "def average_over_repetitions(policy, epsilon, smoothing_window, plot, decay_epsilon, n_repetitions, n_runs, learning_rate,\n",
    "                             gamma, batch_size, experience_replay):\n",
    "\n",
    "    reward_results = np.empty([n_repetitions,n_runs]) # Result array\n",
    "    now = time.time()\n",
    "    \n",
    "    for rep in range(n_repetitions): # Loop over repetitions\n",
    "        rewards = cartpole(n_runs, learning_rate, gamma, policy, epsilon, experience_replay, batch_size, decay_epsilon)\n",
    "        reward_results[rep] = rewards\n",
    "        \n",
    "    print('Running one setting takes {} minutes'.format((time.time()-now)/60))    \n",
    "    learning_curve = np.mean(reward_results,axis=0) # average over repetitions\n",
    "    learning_curve = smooth(learning_curve,smoothing_window) # additional smoothing\n",
    "    return learning_curve  \n",
    "\n",
    "def experiment():\n",
    "    ####### Settings\n",
    "    # Experiment    \n",
    "    n_repetitions = 5\n",
    "    smoothing_window = 1001\n",
    "    n_runs = 65\n",
    "    experience_replay = False\n",
    "    gamma = 0.995\n",
    "\n",
    "    # Exploration\n",
    "    policy = 'egreedy' # 'egreedy' or other choices\n",
    "    epsilon_min = 0.01\n",
    "    decay_rate = 0.95\n",
    "    batch_size = 64\n",
    "    decay_epsilon = False\n",
    "    \n",
    "    # Learning rate\n",
    "    learning_rate = 0.01\n",
    "    \n",
    "    # Plotting parameters\n",
    "    plot = True\n",
    "    \n",
    "    # Nice labels for plotting\n",
    "    policy_labels = {'egreedy': '$\\epsilon$-greedy policy',\n",
    "                  'softmax': 'Softmax policy'}                  #Something here might need to be changed\n",
    "\n",
    "    \n",
    "    ####### Experiments\n",
    "    \n",
    "    good_average_reward = 350 # We set this as a benchmark of good average reward reached by the algorithm\n",
    "    \n",
    "    Plot = LearningCurvePlot(title = 'Cartpole experiment with $\\epsilon$-greedy exploration')    \n",
    "    policy = 'egreedy'\n",
    "    epsilons = [0.01, 1 ,0.2]\n",
    "    for epsilon in epsilons:\n",
    "        if epsilon == 1:\n",
    "            decay_epsilon = True\n",
    "        learning_curve = average_over_repetitions(policy, epsilon, smoothing_window, plot, decay_epsilon, \n",
    "                                                  n_repetitions, n_runs, learning_rate, gamma, batch_size, experience_replay)\n",
    "        Plot.add_curve(learning_curve,label=r'$\\epsilon$-greedy, $\\epsilon $ = {}'.format(epsilon))\n",
    "        decay_epsilon = False\n",
    "    #policy = 'softmax'\n",
    "    #temps = [0.01,0.1,1.0]\n",
    "    #for temp in temps:\n",
    "     #   learning_curve = average_over_repetitions(backup, n_repetitions, n_timesteps, max_episode_length, learning_rate, \n",
    "      #                                        gamma, policy, epsilon, temp, smoothing_window, plot, n)\n",
    "       # Plot.add_curve(learning_curve,label=r'softmax, $ \\tau $ = {}'.format(temp))\n",
    "    Plot.add_hline(optimal_average_reward_per_timestep)\n",
    "    Plot.save('cartpole_test.png')\n",
    "\n",
    "if __name__ == '__main__':\n",
    "    experiment()\n"
   ]
  }
 ],
 "metadata": {
  "kernelspec": {
   "display_name": "Python 3",
   "language": "python",
   "name": "python3"
  },
  "language_info": {
   "codemirror_mode": {
    "name": "ipython",
    "version": 3
   },
   "file_extension": ".py",
   "mimetype": "text/x-python",
   "name": "python",
   "nbconvert_exporter": "python",
   "pygments_lexer": "ipython3",
   "version": "3.8.8"
  }
 },
 "nbformat": 4,
 "nbformat_minor": 5
}
